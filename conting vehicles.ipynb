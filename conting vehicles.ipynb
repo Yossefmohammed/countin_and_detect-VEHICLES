{
 "cells": [
  {
   "cell_type": "code",
   "execution_count": 1,
   "id": "45ebaf93",
   "metadata": {},
   "outputs": [],
   "source": [
    "import cv2\n",
    "import numpy as np\n",
    "import os\n",
    "\n"
   ]
  },
  {
   "cell_type": "markdown",
   "id": "e0f16388",
   "metadata": {},
   "source": [
    "Some values and function use it for counting\n"
   ]
  },
  {
   "cell_type": "code",
   "execution_count": 2,
   "id": "f23f5e18",
   "metadata": {},
   "outputs": [],
   "source": [
    "ww=80\n",
    "hh=80\n",
    "offset=6\n",
    "y1=550\n",
    "delay=60\n",
    "detec=[]\n",
    "carros=0\n",
    "#use it for draw point at the center of the vehicle\n",
    "def pega_center(x,y,w,h):\n",
    "    x1=int(w/2)\n",
    "    y1=int(h/2)\n",
    "    cx=x+x1\n",
    "    cy=y+y1\n",
    "    return cx,cy"
   ]
  },
  {
   "cell_type": "markdown",
   "id": "f20068ec",
   "metadata": {},
   "source": [
    "Read the video at some frames\n"
   ]
  },
  {
   "cell_type": "code",
   "execution_count": 3,
   "id": "86035be7",
   "metadata": {},
   "outputs": [],
   "source": [
    "cap =cv2.VideoCapture(r\"C:\\Users\\youssef\\Documents\\computer vision\\video.mp4\")\n",
    "#split the frame to black backgraound and the object is white-> vehicle \n",
    "bgs= cv2.bgsegm.createBackgroundSubtractorMOG()  \n",
    "if not cap.isOpened():\n",
    "    print(\"Error: Could not open camera or video file.\")\n",
    "    exit()  # Exit if the camera or video file can't be opened\n"
   ]
  },
  {
   "cell_type": "code",
   "execution_count": 4,
   "id": "7285fa6a",
   "metadata": {},
   "outputs": [
    {
     "name": "stdout",
     "output_type": "stream",
     "text": [
      "Num of detected cars:1\n",
      "Num of detected cars:2\n",
      "Num of detected cars:3\n",
      "Num of detected cars:4\n",
      "Num of detected cars:5\n",
      "Num of detected cars:6\n",
      "Num of detected cars:7\n",
      "Num of detected cars:8\n",
      "Num of detected cars:9\n",
      "Num of detected cars:10\n",
      "Num of detected cars:11\n",
      "Num of detected cars:12\n",
      "Num of detected cars:13\n",
      "Num of detected cars:14\n",
      "Num of detected cars:15\n",
      "Num of detected cars:16\n",
      "Num of detected cars:17\n",
      "Num of detected cars:18\n",
      "Num of detected cars:19\n",
      "Num of detected cars:20\n",
      "Num of detected cars:21\n",
      "Num of detected cars:22\n",
      "Num of detected cars:23\n",
      "Num of detected cars:24\n",
      "Num of detected cars:25\n",
      "Num of detected cars:26\n",
      "Num of detected cars:27\n",
      "Num of detected cars:28\n",
      "Num of detected cars:29\n",
      "Num of detected cars:30\n",
      "Num of detected cars:31\n",
      "Num of detected cars:32\n",
      "Num of detected cars:33\n",
      "Num of detected cars:34\n",
      "Num of detected cars:35\n",
      "Num of detected cars:36\n",
      "Num of detected cars:37\n",
      "Num of detected cars:38\n",
      "Num of detected cars:39\n",
      "Num of detected cars:40\n",
      "Num of detected cars:41\n",
      "Num of detected cars:42\n",
      "Num of detected cars:43\n",
      "Num of detected cars:44\n",
      "Num of detected cars:45\n",
      "Num of detected cars:46\n",
      "Num of detected cars:47\n",
      "Num of detected cars:48\n",
      "Num of detected cars:49\n",
      "Num of detected cars:50\n",
      "Num of detected cars:51\n",
      "Num of detected cars:52\n",
      "Num of detected cars:53\n",
      "Num of detected cars:54\n",
      "Num of detected cars:55\n",
      "Num of detected cars:56\n",
      "Num of detected cars:57\n",
      "Num of detected cars:58\n",
      "Num of detected cars:59\n",
      "Num of detected cars:60\n",
      "Num of detected cars:61\n",
      "Num of detected cars:62\n"
     ]
    }
   ],
   "source": [
    "while True:\n",
    "    ret, frame1 = cap.read()\n",
    "    if not ret:  \n",
    "        print(\"Failed to grab frame\")\n",
    "        break  \n",
    "# transform the frame from rgb to be gray\n",
    "    gray = cv2.cvtColor(frame1, cv2.COLOR_BGR2GRAY)\n",
    "    #add gaussian blurrig to remove the noise\n",
    "    blur = cv2.GaussianBlur(gray, (3, 3), 5)\n",
    "    img_sub = bgs.apply(blur)\n",
    "    #dialte the frame to make the object clear \n",
    "    dilat = cv2.dilate(img_sub, np.ones((5, 5)))\n",
    "# find the vehicles as contours to make rectangels on them\n",
    "    contours, h = cv2.findContours(dilat, cv2.RETR_TREE, cv2.CHAIN_APPROX_SIMPLE)\n",
    "    cv2.line(frame1, (25, y1), (1200, y1), (176, 130, 39), 2)\n",
    "\n",
    "    for i, c in enumerate(contours):\n",
    "        (x, y, w, h) = cv2.boundingRect(c)\n",
    "        validar_contorno = (w >= ww) and (h >= hh)\n",
    "        if not validar_contorno:\n",
    "            continue\n",
    "        cv2.rectangle(frame1, (x, y), (x + w, y + h), (0, 255, 0), 2)\n",
    "        center = pega_center(x, y, w, h)\n",
    "        detec.append(center)\n",
    "        cv2.circle(frame1, center, 4, (0, 0, 255), -1)\n",
    "        \n",
    "        for (x, y) in detec:\n",
    "            if y < (y1 + offset) and y > (y1 - offset):\n",
    "                carros += 1\n",
    "                cv2.line(frame1, (25, y1), (1200, y1), (0, 127, 255), 3)\n",
    "                detec.remove((x, y))\n",
    "                print(\"Num of detected cars:\" + str(carros))\n",
    "\n",
    "    cv2.putText(frame1, \"vehicle count:\" + str(carros), (320, 70), cv2.FONT_HERSHEY_COMPLEX, 2, (0, 0, 255), 4)\n",
    "    cv2.imshow(\"video original\", frame1)\n",
    "    cv2.imshow(\"dilat\", dilat)\n",
    "    cv2.imshow(\"img_sub\", img_sub)\n",
    "\n",
    "    if cv2.waitKey(1) == 27:  # Break the loop if 'Esc' key is pressed\n",
    "        break\n",
    "\n",
    "cv2.destroyAllWindows()\n",
    "cap.release()\n"
   ]
  }
 ],
 "metadata": {
  "kernelspec": {
   "display_name": "base",
   "language": "python",
   "name": "python3"
  },
  "language_info": {
   "codemirror_mode": {
    "name": "ipython",
    "version": 3
   },
   "file_extension": ".py",
   "mimetype": "text/x-python",
   "name": "python",
   "nbconvert_exporter": "python",
   "pygments_lexer": "ipython3",
   "version": "3.12.4"
  }
 },
 "nbformat": 4,
 "nbformat_minor": 5
}
